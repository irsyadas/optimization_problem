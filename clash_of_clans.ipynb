{
 "cells": [
  {
   "cell_type": "markdown",
   "id": "active-wright",
   "metadata": {},
   "source": [
    "# Optimization Problem with Pyomo\n",
    "## Case Study: Clash of Clans"
   ]
  },
  {
   "cell_type": "markdown",
   "id": "apart-learning",
   "metadata": {},
   "source": [
    "***"
   ]
  },
  {
   "cell_type": "code",
   "execution_count": 76,
   "id": "raised-currency",
   "metadata": {},
   "outputs": [],
   "source": [
    "# Import libraries\n",
    "\n",
    "from pyomo.environ import *\n",
    "import random\n",
    "import numpy as np\n",
    "import matplotlib.pyplot as plt\n",
    "import logging\n",
    "logging.getLogger('pyomo.core').setLevel(logging.ERROR)"
   ]
  },
  {
   "cell_type": "code",
   "execution_count": 77,
   "id": "satisfactory-poker",
   "metadata": {},
   "outputs": [],
   "source": [
    "# Define the abstract model, set, every parameter, and base constraints\n",
    "\n",
    "model = AbstractModel()\n",
    "model.i = Set()\n",
    "model.housingspace = Param(model.i)\n",
    "model.damage = Param(model.i)\n",
    "model.Trainingcostred = Param(model.i)\n",
    "model.TrainingcostDark = Param(model.i)\n",
    "model.Hitpoint = Param(model.i)\n",
    "model.Trainingtime = Param(model.i)\n",
    "model.camp = Param()\n",
    "model.RedElexir = Param()\n",
    "model.DarkElexir = Param()\n",
    "\n",
    "model.x = Var(model.i, bounds = (0,300), within = NonNegativeIntegers, initialize = 0)\n",
    "model.Tattack = Var(within = Reals)\n",
    "model.Thitpoint = Var(within = Reals)\n",
    "model.time = Var(within = Reals)"
   ]
  },
  {
   "cell_type": "code",
   "execution_count": 78,
   "id": "postal-sullivan",
   "metadata": {},
   "outputs": [],
   "source": [
    "# define rule which consists of constraints related to each parameters\n",
    "\n",
    "def rule_C1(model):\n",
    "    return model.Tattack == sum(model.damage[i]*model.x[i] for i in model.i)\n",
    "model.C1 = Constraint(rule = rule_C1)\n",
    "\n",
    "def rule_C2(model):\n",
    "    return sum(model.housingspace[i]*model.x[i] for i in model.i) <= model.camp\n",
    "model.C2 = Constraint(rule = rule_C2)\n",
    "\n",
    "def rule_C3(model):\n",
    "    return sum(model.Trainingcostred[i]*model.x[i] for i in model.i) <= model.RedElexir\n",
    "model.C3 = Constraint(rule = rule_C3)\n",
    "\n",
    "def rule_C4(model):\n",
    "    return sum(model.TrainingcostDark[i]*model.x[i] for i in model.i) <= model.DarkElexir\n",
    "model.C4 = Constraint(rule = rule_C4)\n",
    "\n",
    "def rule_C5(model):\n",
    "    return model.Thitpoint == sum(model.Hitpoint[i]*model.x[i] for i in model.i)\n",
    "model.C5 = Constraint(rule = rule_C5)\n",
    "\n",
    "def rule_C6(model):\n",
    "    return model.time == sum(model.Trainingtime[i]*model.x[i] for i in model.i)\n",
    "model.C6 = Constraint(rule = rule_C6)  "
   ]
  },
  {
   "cell_type": "code",
   "execution_count": 79,
   "id": "surface-morrison",
   "metadata": {},
   "outputs": [],
   "source": [
    "# specify each objective to solve\n",
    "\n",
    "model.obj1 = Objective(expr = model.Tattack, sense = maximize) # maximize damage output\n",
    "model.obj2 = Objective(expr = model.Thitpoint, sense = maximize) # maximize hitpoints output\n",
    "\n",
    "# set the solver using integer linear programming\n",
    "\n",
    "opt = SolverFactory('glpk')"
   ]
  },
  {
   "cell_type": "code",
   "execution_count": 80,
   "id": "simplified-equality",
   "metadata": {},
   "outputs": [
    {
     "data": {
      "text/plain": [
       "Text(0.5, 1.0, 'Maximize Damage =16434.0,  traintime= 2144.0')"
      ]
     },
     "execution_count": 80,
     "metadata": {},
     "output_type": "execute_result"
    },
    {
     "data": {
      "image/png": "[encoded data removed]",
      "text/plain": [
       "<Figure size 432x288 with 1 Axes>"
      ]
     },
     "metadata": {
      "needs_background": "light"
     },
     "output_type": "display_data"
    }
   ],
   "source": [
    "# Solve the first objective (maximize damage output)\n",
    "# The graph shows that train a bunch of wizards and few goblin would be beneficial to maximize damage\n",
    "\n",
    "model.obj1.activate()\n",
    "model.obj2.deactivate()\n",
    "\n",
    "\n",
    "instance = model.create_instance(\"EX15.dat\")\n",
    "results = opt.solve(instance) # solves and updates instance\n",
    "X=[i for i in instance.i]\n",
    "Y=[value(instance.x[i]) for i in instance.i]\n",
    "\n",
    "plt.bar(X,Y)\n",
    "plt.xticks(rotation=90)\n",
    "plt.title('Maximize Damage ='+str(value(instance.Tattack)) + ',  traintime= '+ str(value(instance.time)))"
   ]
  },
  {
   "cell_type": "code",
   "execution_count": 81,
   "id": "waiting-livestock",
   "metadata": {},
   "outputs": [
    {
     "data": {
      "text/plain": [
       "Text(0.5, 1.0, 'Maximize Hitpoints =105655.0,  traintime= 3425.0')"
      ]
     },
     "execution_count": 81,
     "metadata": {},
     "output_type": "execute_result"
    },
    {
     "data": {
      "image/png": "[encoded data removed]",
      "text/plain": [
       "<Figure size 432x288 with 1 Axes>"
      ]
     },
     "metadata": {
      "needs_background": "light"
     },
     "output_type": "display_data"
    }
   ],
   "source": [
    "# Solve the second objective (maximize hitpoints output)\n",
    "# The results indicates that i need to train a plenty of giant and several barbarian to maximize hitpoint\n",
    "\n",
    "model.obj1.deactivate()\n",
    "model.obj2.activate()\n",
    "\n",
    "instance = model.create_instance(\"EX15.dat\")\n",
    "results = opt.solve(instance) # solves and updates instance\n",
    "X=[i for i in instance.i]\n",
    "Y=[value(instance.x[i]) for i in instance.i]\n",
    "\n",
    "plt.bar(X,Y)\n",
    "plt.xticks(rotation=90)\n",
    "plt.title('Maximize Hitpoints ='+str(value(instance.Thitpoint)) + ',  traintime= '+ str(value(instance.time)))"
   ]
  }
 ],
 "metadata": {
  "kernelspec": {
   "display_name": "Python 3",
   "language": "python",
   "name": "python3"
  },
  "language_info": {
   "codemirror_mode": {
    "name": "ipython",
    "version": 3
   },
   "file_extension": ".py",
   "mimetype": "text/x-python",
   "name": "python",
   "nbconvert_exporter": "python",
   "pygments_lexer": "ipython3",
   "version": "3.8.5"
  }
 },
 "nbformat": 4,
 "nbformat_minor": 5
}
